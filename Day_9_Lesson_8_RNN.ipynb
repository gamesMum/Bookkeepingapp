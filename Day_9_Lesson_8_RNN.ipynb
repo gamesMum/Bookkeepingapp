{
  "nbformat": 4,
  "nbformat_minor": 0,
  "metadata": {
    "colab": {
      "name": "Day 9: Lesson 8_RNN.ipynb",
      "provenance": [],
      "authorship_tag": "ABX9TyPN3J0QBuxVrUNaQ6iC/sKZ",
      "include_colab_link": true
    },
    "kernelspec": {
      "name": "python3",
      "display_name": "Python 3"
    }
  },
  "cells": [
    {
      "cell_type": "markdown",
      "metadata": {
        "id": "view-in-github",
        "colab_type": "text"
      },
      "source": [
        "<a href=\"https://colab.research.google.com/github/gamesMum/Bookkeepingapp/blob/master/Day_9_Lesson_8_RNN.ipynb\" target=\"_parent\"><img src=\"https://colab.research.google.com/assets/colab-badge.svg\" alt=\"Open In Colab\"/></a>"
      ]
    },
    {
      "cell_type": "markdown",
      "metadata": {
        "id": "otRnz45H2bKM",
        "colab_type": "text"
      },
      "source": [
        "# **Progress**\n",
        "- Starting lesson 8 and finished parts 1 to 12\n",
        "- working on signs challange (have Index Error)\n",
        "  - The error caused by the validation data\n",
        "  - I tried to subset the validation data from the training data and it worked\n",
        "  - see https://github.com/gamesMum/ChineseSignsClassification/tree/SubsetValidation\n",
        "- working on style transfer code (editing different parameters)"
      ]
    },
    {
      "cell_type": "code",
      "metadata": {
        "id": "wyHLFHZo8oic",
        "colab_type": "code",
        "colab": {}
      },
      "source": [
        ""
      ],
      "execution_count": 0,
      "outputs": []
    }
  ]
}