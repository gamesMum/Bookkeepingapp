{
  "nbformat": 4,
  "nbformat_minor": 0,
  "metadata": {
    "colab": {
      "name": "Day 3: Chinse Signs Challenge.ipynb",
      "provenance": [],
      "include_colab_link": true
    },
    "kernelspec": {
      "name": "python3",
      "display_name": "Python 3"
    }
  },
  "cells": [
    {
      "cell_type": "markdown",
      "metadata": {
        "id": "view-in-github",
        "colab_type": "text"
      },
      "source": [
        "<a href=\"https://colab.research.google.com/github/gamesMum/Bookkeepingapp/blob/master/Day_3_Chinse_Signs_Challenge.ipynb\" target=\"_parent\"><img src=\"https://colab.research.google.com/assets/colab-badge.svg\" alt=\"Open In Colab\"/></a>"
      ]
    },
    {
      "cell_type": "markdown",
      "metadata": {
        "id": "I44MVYZ95ZtW",
        "colab_type": "text"
      },
      "source": [
        "# **Progress**\n",
        "\n",
        "- Worked on the chinese signs calssification challenge \n",
        "- had issue in resizing of the images and the folloing code solved it"
      ]
    },
    {
      "cell_type": "code",
      "metadata": {
        "id": "qZszN61K5KJI",
        "colab_type": "code",
        "colab": {}
      },
      "source": [
        "train_transforms = transforms.Compose([transforms.Resize((256, 256)),\n",
        "                                       transforms.RandomHorizontalFlip(),\n",
        "                                       transforms.RandomRotation(224),\n",
        "                                       transforms.ToTensor(),\n",
        "                                       transforms.Normalize([0.5, 0.5, 0.5],\n",
        "                                                           [0.5, 0.5, 0.5])])"
      ],
      "execution_count": 0,
      "outputs": []
    },
    {
      "cell_type": "markdown",
      "metadata": {
        "id": "2cEG_pqN56sX",
        "colab_type": "text"
      },
      "source": [
        "- start training my model but faced some error in the dataset, I think some of the images are curropt\n",
        "The folloeing is one of the error messages"
      ]
    },
    {
      "cell_type": "code",
      "metadata": {
        "id": "gXAjltA56Vxy",
        "colab_type": "code",
        "colab": {
          "base_uri": "https://localhost:8080/",
          "height": 149
        },
        "outputId": "89a93060-e554-4b41-e13c-b88193e598a6"
      },
      "source": [
        "/usr/local/lib/python3.6/dist-packages/PIL/Image.py:914: UserWarning: Palette images with Transparency   expressed in bytes should be converted to RGBA images\n",
        "  'to RGBA images')\n",
        "---------------------------------------------------------------------------\n",
        "FileNotFoundError                         Traceback (most recent call last)\n",
        "<ipython-input-65-59c210be52ff> in <module>()\n",
        "     14     ###################\n",
        "     15     model.train()\n",
        "---> 16     for batch_idx, (images, labels) in enumerate(train_loader):\n",
        "     17         # move tensors to GPU if CUDA is available\n",
        "     18         if train_on_gpu:\n",
        "\n",
        "5 frames\n",
        "/usr/local/lib/python3.6/dist-packages/torchvision/datasets/folder.py in pil_loader(path)\n",
        "    153 def pil_loader(path):\n",
        "    154     # open path as file to avoid ResourceWarning (https://github.com/python-pillow/Pillow/issues/835)\n",
        "--> 155     with open(path, 'rb') as f:\n",
        "    156         img = Image.open(f)\n",
        "    157         return img.convert('RGB')\n",
        "\n",
        "FileNotFoundError: [Errno 2] No such file or directory: 'signs/train/snake/00000116.jpg'"
      ],
      "execution_count": 3,
      "outputs": [
        {
          "output_type": "error",
          "ename": "SyntaxError",
          "evalue": "ignored",
          "traceback": [
            "\u001b[0;36m  File \u001b[0;32m\"<ipython-input-3-bc92ea83e40c>\"\u001b[0;36m, line \u001b[0;32m1\u001b[0m\n\u001b[0;31m    usr(/local/lib/python3.6/dist-packages/PIL/Image.py:914:, UserWarning:, Palette, images, with, Transparency, expressed, in, bytes, should, be, converted, to, RGBA, images)\u001b[0m\n\u001b[0m        ^\u001b[0m\n\u001b[0;31mSyntaxError\u001b[0m\u001b[0;31m:\u001b[0m invalid syntax\n"
          ]
        }
      ]
    },
    {
      "cell_type": "markdown",
      "metadata": {
        "id": "_xFWztlk7U_W",
        "colab_type": "text"
      },
      "source": [
        "You can find the complete code in the following repo\n",
        "https://github.com/gamesMum/ChineseSignsClassification\n"
      ]
    },
    {
      "cell_type": "code",
      "metadata": {
        "id": "k6g7XX5K7aB0",
        "colab_type": "code",
        "colab": {}
      },
      "source": [
        ""
      ],
      "execution_count": 0,
      "outputs": []
    }
  ]
}